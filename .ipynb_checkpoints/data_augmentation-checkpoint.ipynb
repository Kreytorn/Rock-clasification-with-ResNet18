{
 "cells": [
  {
   "cell_type": "code",
   "execution_count": 3,
   "id": "830cf6d4",
   "metadata": {},
   "outputs": [
    {
     "name": "stdout",
     "output_type": "stream",
     "text": [
      "Augmenting: Igneous/Basalt\n"
     ]
    },
    {
     "name": "stderr",
     "output_type": "stream",
     "text": [
      "100%|██████████████████████████████████████████████████████████████████████████████████| 84/84 [00:01<00:00, 53.31it/s]\n"
     ]
    },
    {
     "name": "stdout",
     "output_type": "stream",
     "text": [
      "Augmenting: Igneous/Granite\n"
     ]
    },
    {
     "name": "stderr",
     "output_type": "stream",
     "text": [
      "100%|██████████████████████████████████████████████████████████████████████████████████| 72/72 [00:01<00:00, 52.87it/s]\n"
     ]
    },
    {
     "name": "stdout",
     "output_type": "stream",
     "text": [
      "Augmenting: Metamorphic/Marble\n"
     ]
    },
    {
     "name": "stderr",
     "output_type": "stream",
     "text": [
      "100%|████████████████████████████████████████████████████████████████████████████████| 383/383 [00:04<00:00, 81.67it/s]\n"
     ]
    },
    {
     "name": "stdout",
     "output_type": "stream",
     "text": [
      "Augmenting: Metamorphic/Quartzite\n"
     ]
    },
    {
     "name": "stderr",
     "output_type": "stream",
     "text": [
      "100%|████████████████████████████████████████████████████████████████████████████████| 476/476 [00:05<00:00, 86.33it/s]\n"
     ]
    },
    {
     "name": "stdout",
     "output_type": "stream",
     "text": [
      "Augmenting: Sedimentary/Coal\n"
     ]
    },
    {
     "name": "stderr",
     "output_type": "stream",
     "text": [
      "100%|████████████████████████████████████████████████████████████████████████████████| 345/345 [00:04<00:00, 80.40it/s]\n"
     ]
    },
    {
     "name": "stdout",
     "output_type": "stream",
     "text": [
      "Augmenting: Sedimentary/Limestone\n"
     ]
    },
    {
     "name": "stderr",
     "output_type": "stream",
     "text": [
      "100%|████████████████████████████████████████████████████████████████████████████████| 321/321 [00:04<00:00, 79.98it/s]\n"
     ]
    },
    {
     "name": "stdout",
     "output_type": "stream",
     "text": [
      "Augmenting: Sedimentary/Sandstone\n"
     ]
    },
    {
     "name": "stderr",
     "output_type": "stream",
     "text": [
      "100%|████████████████████████████████████████████████████████████████████████████████| 323/323 [00:03<00:00, 81.67it/s]\n"
     ]
    }
   ],
   "source": [
    "import os\n",
    "from PIL import Image\n",
    "from torchvision import transforms\n",
    "from tqdm import tqdm\n",
    "import random\n",
    "\n",
    "# === Base path\n",
    "BASE_PATH = r\"C:\\Users\\kuzey\\OneDrive\\Masaüstü\\cografya_proje\\Dataset\"\n",
    "\n",
    "# === Define extra-augment folders\n",
    "EXTRA_AUG_CLASSES = [\"Basalt\", \"Granite\"]\n",
    "\n",
    "# === Define augmentations\n",
    "augment = transforms.Compose([\n",
    "    transforms.RandomHorizontalFlip(p=1.0),\n",
    "    transforms.RandomRotation(20),\n",
    "    transforms.ColorJitter(brightness=0.2, contrast=0.2),\n",
    "    transforms.RandomResizedCrop(size=(224, 224), scale=(0.9, 1.0))\n",
    "])\n",
    "\n",
    "# === Loop through dataset\n",
    "for main_class in os.listdir(BASE_PATH):\n",
    "    main_path = os.path.join(BASE_PATH, main_class)\n",
    "    if not os.path.isdir(main_path): continue\n",
    "\n",
    "    for subclass in os.listdir(main_path):\n",
    "        sub_path = os.path.join(main_path, subclass)\n",
    "        if not os.path.isdir(sub_path): continue\n",
    "\n",
    "        print(f\"Augmenting: {main_class}/{subclass}\")\n",
    "        files = [f for f in os.listdir(sub_path) if f.lower().endswith(\".jpg\")]\n",
    "\n",
    "        # Default = 1 aug / Extra classes = 3 aug\n",
    "        num_augs = 3 if subclass in EXTRA_AUG_CLASSES else 1\n",
    "\n",
    "        for img_name in tqdm(files):\n",
    "            img_path = os.path.join(sub_path, img_name)\n",
    "            try:\n",
    "                img = Image.open(img_path).convert(\"RGB\")\n",
    "                for i in range(num_augs):\n",
    "                    aug_img = augment(img)\n",
    "                    save_name = img_name.replace(\".jpg\", f\"_aug{i+1}.jpg\")\n",
    "                    save_path = os.path.join(sub_path, save_name)\n",
    "                    aug_img.save(save_path, format=\"JPEG\", quality=95)\n",
    "            except Exception as e:\n",
    "                print(f\"⚠️ Skipping {img_name}: {e}\")\n"
   ]
  },
  {
   "cell_type": "code",
   "execution_count": 8,
   "id": "4c14fae5",
   "metadata": {
    "scrolled": false
   },
   "outputs": [
    {
     "name": "stdout",
     "output_type": "stream",
     "text": [
      "Adding texture boosts to: C:\\Users\\kuzey\\OneDrive\\Masaüstü\\cografya_proje\\Dataset\\Igneous\\Basalt\n"
     ]
    },
    {
     "name": "stderr",
     "output_type": "stream",
     "text": [
      "100%|████████████████████████████████████████████████████████████████████████████████| 336/336 [00:03<00:00, 93.66it/s]\n"
     ]
    },
    {
     "name": "stdout",
     "output_type": "stream",
     "text": [
      "Adding texture boosts to: C:\\Users\\kuzey\\OneDrive\\Masaüstü\\cografya_proje\\Dataset\\Igneous\\Granite\n"
     ]
    },
    {
     "name": "stderr",
     "output_type": "stream",
     "text": [
      "100%|████████████████████████████████████████████████████████████████████████████████| 288/288 [00:03<00:00, 75.45it/s]\n"
     ]
    }
   ],
   "source": [
    "import os\n",
    "from PIL import Image, ImageFilter\n",
    "from torchvision import transforms\n",
    "from tqdm import tqdm\n",
    "import random\n",
    "import torch\n",
    "\n",
    "# === Target folders\n",
    "TARGET_FOLDERS = [\n",
    "    r\"C:\\Users\\kuzey\\OneDrive\\Masaüstü\\cografya_proje\\Dataset\\Igneous\\Basalt\",\n",
    "    r\"C:\\Users\\kuzey\\OneDrive\\Masaüstü\\cografya_proje\\Dataset\\Igneous\\Granite\"\n",
    "]\n",
    "\n",
    "# === Advanced texture-friendly augmentations\n",
    "def texture_aug_pipeline():\n",
    "    return transforms.Compose([\n",
    "        transforms.RandomHorizontalFlip(p=0.5),\n",
    "        transforms.RandomRotation(degrees=25),\n",
    "        transforms.RandomPerspective(distortion_scale=0.2, p=0.3),\n",
    "        transforms.RandomGrayscale(p=0.2),\n",
    "        transforms.ColorJitter(brightness=0.2, contrast=0.2),\n",
    "        transforms.RandomResizedCrop(224, scale=(0.85, 1.0))\n",
    "    ])\n",
    "\n",
    "# === Number of new texture-based versions per image\n",
    "EXTRA_TEXTURE_AUGS = 2\n",
    "\n",
    "# === Loop & apply\n",
    "for folder in TARGET_FOLDERS:\n",
    "    print(f\"Adding texture boosts to: {folder}\")\n",
    "    files = [f for f in os.listdir(folder) if f.lower().endswith(\".jpg\")]\n",
    "\n",
    "    for fname in tqdm(files):\n",
    "        img_path = os.path.join(folder, fname)\n",
    "\n",
    "        try:\n",
    "            img = Image.open(img_path).convert(\"RGB\")\n",
    "\n",
    "            # Optional: UnsharpMask before augmentation\n",
    "            if random.random() < 0.5:\n",
    "                img = img.filter(ImageFilter.UnsharpMask(radius=2, percent=150))\n",
    "\n",
    "            for i in range(EXTRA_TEXTURE_AUGS):\n",
    "                transform = texture_aug_pipeline()\n",
    "                aug_img = transform(img)\n",
    "\n",
    "                # Convert to PIL if the result is a tensor\n",
    "                if isinstance(aug_img, torch.Tensor):\n",
    "                    aug_img = transforms.ToPILImage()(aug_img)\n",
    "\n",
    "                save_name = fname.replace(\".jpg\", f\"_texture{i+1}.jpg\")\n",
    "                save_path = os.path.join(folder, save_name)\n",
    "                aug_img.save(save_path, format=\"JPEG\", quality=95)\n",
    "\n",
    "\n",
    "        except Exception as e:\n",
    "            print(f\"⚠️ Skipping {fname}: {e}\")\n"
   ]
  },
  {
   "cell_type": "code",
   "execution_count": null,
   "id": "4b2e5297",
   "metadata": {},
   "outputs": [],
   "source": []
  }
 ],
 "metadata": {
  "kernelspec": {
   "display_name": "Python 3 (ipykernel)",
   "language": "python",
   "name": "python3"
  },
  "language_info": {
   "codemirror_mode": {
    "name": "ipython",
    "version": 3
   },
   "file_extension": ".py",
   "mimetype": "text/x-python",
   "name": "python",
   "nbconvert_exporter": "python",
   "pygments_lexer": "ipython3",
   "version": "3.11.5"
  }
 },
 "nbformat": 4,
 "nbformat_minor": 5
}
